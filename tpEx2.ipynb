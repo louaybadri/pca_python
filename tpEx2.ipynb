{
 "cells": [
  {
   "cell_type": "code",
   "execution_count": 1,
   "metadata": {
    "ExecuteTime": {
     "start_time": "2023-04-29T17:56:38.022800Z",
     "end_time": "2023-04-29T17:56:38.997080Z"
    }
   },
   "outputs": [],
   "source": [
    "import numpy as np\n",
    "from sklearn.preprocessing import StandardScaler\n",
    "# print(\"hello\")\n",
    "from numpy.linalg import eigvals\n",
    "import matplotlib.pyplot as plt\n",
    "from numpy.linalg import eigh"
   ]
  },
  {
   "cell_type": "code",
   "execution_count": 2,
   "metadata": {
    "ExecuteTime": {
     "start_time": "2023-04-29T17:56:38.996027Z",
     "end_time": "2023-04-29T17:56:39.003483Z"
    }
   },
   "outputs": [
    {
     "name": "stdout",
     "output_type": "stream",
     "text": [
      "[[ 1.  1.  3.]\n",
      " [-1. -1.  3.]\n",
      " [ 1.  1. -3.]\n",
      " [-1. -1. -3.]\n",
      " [ 1. -1.  0.]\n",
      " [-1.  1.  0.]]\n"
     ]
    }
   ],
   "source": [
    "# Load CSV file into a numpy array\n",
    "data = np.genfromtxt('data/ex2.csv', delimiter=';')\n",
    "\n",
    "# Print the data\n",
    "print(data)\n"
   ]
  },
  {
   "cell_type": "code",
   "execution_count": 3,
   "metadata": {
    "ExecuteTime": {
     "start_time": "2023-04-29T17:56:39.003483Z",
     "end_time": "2023-04-29T17:56:39.008020Z"
    }
   },
   "outputs": [
    {
     "name": "stdout",
     "output_type": "stream",
     "text": [
      "[[ 1.          1.          1.22474487]\n",
      " [-1.         -1.          1.22474487]\n",
      " [ 1.          1.         -1.22474487]\n",
      " [-1.         -1.         -1.22474487]\n",
      " [ 1.         -1.          0.        ]\n",
      " [-1.          1.          0.        ]]\n"
     ]
    }
   ],
   "source": [
    "object= StandardScaler()\n",
    "scale = object.fit_transform(data) \n",
    "print(scale)\n"
   ]
  },
  {
   "cell_type": "code",
   "execution_count": 4,
   "metadata": {
    "ExecuteTime": {
     "start_time": "2023-04-29T17:56:39.008081Z",
     "end_time": "2023-04-29T17:56:39.014698Z"
    }
   },
   "outputs": [
    {
     "name": "stdout",
     "output_type": "stream",
     "text": [
      "[[1.         0.33333333 0.        ]\n",
      " [0.33333333 1.         0.        ]\n",
      " [0.         0.         1.        ]]\n"
     ]
    }
   ],
   "source": [
    "RX = np.corrcoef(scale, rowvar=False)\n",
    "\n",
    "print(RX)"
   ]
  },
  {
   "cell_type": "code",
   "execution_count": 5,
   "metadata": {
    "ExecuteTime": {
     "start_time": "2023-04-29T17:56:39.015696Z",
     "end_time": "2023-04-29T17:56:39.018299Z"
    }
   },
   "outputs": [
    {
     "name": "stdout",
     "output_type": "stream",
     "text": [
      "[1.33333333 0.66666667 1.        ]\n"
     ]
    }
   ],
   "source": [
    "\n",
    "\n",
    "spectrum = eigvals(RX)\n",
    "\n",
    "print(spectrum)"
   ]
  },
  {
   "cell_type": "code",
   "execution_count": 6,
   "metadata": {
    "ExecuteTime": {
     "start_time": "2023-04-29T17:56:39.020919Z",
     "end_time": "2023-04-29T17:56:39.021926Z"
    }
   },
   "outputs": [],
   "source": [
    "\n",
    "\n",
    "eigenvalues, eigenvectors = eigh(RX)\n"
   ]
  },
  {
   "cell_type": "code",
   "execution_count": 7,
   "metadata": {
    "ExecuteTime": {
     "start_time": "2023-04-29T17:56:39.023926Z",
     "end_time": "2023-04-29T17:56:39.027866Z"
    }
   },
   "outputs": [
    {
     "name": "stdout",
     "output_type": "stream",
     "text": [
      "eigenvalues\n",
      "[0.66666667 1.         1.33333333]\n"
     ]
    }
   ],
   "source": [
    "\n",
    "print(\"eigenvalues\")\n",
    "print(eigenvalues)"
   ]
  },
  {
   "cell_type": "code",
   "execution_count": 8,
   "metadata": {
    "ExecuteTime": {
     "start_time": "2023-04-29T17:56:39.028877Z",
     "end_time": "2023-04-29T17:56:39.139207Z"
    }
   },
   "outputs": [
    {
     "name": "stdout",
     "output_type": "stream",
     "text": [
      "eigenvectors\n",
      "[[-0.70710678  0.          0.70710678]\n",
      " [ 0.70710678  0.          0.70710678]\n",
      " [ 0.          1.          0.        ]]\n"
     ]
    }
   ],
   "source": [
    "\n",
    "print(\"eigenvectors\")\n",
    "print(eigenvectors)"
   ]
  },
  {
   "cell_type": "code",
   "execution_count": 9,
   "metadata": {
    "ExecuteTime": {
     "start_time": "2023-04-29T17:56:39.033368Z",
     "end_time": "2023-04-29T17:56:39.160213Z"
    }
   },
   "outputs": [
    {
     "name": "stdout",
     "output_type": "stream",
     "text": [
      "[[ 0.          1.22474487  1.41421356]\n",
      " [ 0.          1.22474487 -1.41421356]\n",
      " [ 0.         -1.22474487  1.41421356]\n",
      " [ 0.         -1.22474487 -1.41421356]\n",
      " [-1.41421356  0.          0.        ]\n",
      " [ 1.41421356  0.          0.        ]]\n"
     ]
    }
   ],
   "source": [
    "\n",
    "CX = eigenvectors.T.dot(scale.T).T\n",
    "print(CX)"
   ]
  },
  {
   "cell_type": "code",
   "execution_count": 10,
   "metadata": {
    "ExecuteTime": {
     "start_time": "2023-04-29T17:56:39.040476Z",
     "end_time": "2023-04-29T17:56:39.160213Z"
    }
   },
   "outputs": [],
   "source": [
    "# plt.plot(range(1, len(spectrum) + 1), spectrum, 'o-')\n",
    "# plt.xlabel('Component')\n",
    "# plt.ylabel('Eigenvalue')\n",
    "# plt.title('Scree Plot')\n",
    "# plt.show()"
   ]
  },
  {
   "cell_type": "code",
   "execution_count": 11,
   "metadata": {
    "ExecuteTime": {
     "start_time": "2023-04-29T17:56:39.044488Z",
     "end_time": "2023-04-29T17:56:39.161213Z"
    }
   },
   "outputs": [
    {
     "name": "stdout",
     "output_type": "stream",
     "text": [
      "Cumulative variance: [0.44444444 0.66666667 1.        ]\n",
      "Number of principal components to retain: 3\n"
     ]
    }
   ],
   "source": [
    "# Determine the number of principal components to retain\n",
    "cumulative_variance = np.cumsum(spectrum) / np.sum(eigenvalues)\n",
    "print(\"Cumulative variance:\", cumulative_variance)\n",
    "n_components = np.argmax(cumulative_variance >= 0.95) + 1\n",
    "print(\"Number of principal components to retain:\", n_components)"
   ]
  }
 ],
 "metadata": {
  "kernelspec": {
   "display_name": "Python 3",
   "language": "python",
   "name": "python3"
  },
  "language_info": {
   "codemirror_mode": {
    "name": "ipython",
    "version": 3
   },
   "file_extension": ".py",
   "mimetype": "text/x-python",
   "name": "python",
   "nbconvert_exporter": "python",
   "pygments_lexer": "ipython3",
   "version": "3.11.3"
  },
  "orig_nbformat": 4
 },
 "nbformat": 4,
 "nbformat_minor": 2
}
